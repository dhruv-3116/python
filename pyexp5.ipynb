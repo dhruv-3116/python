{
  "nbformat": 4,
  "nbformat_minor": 0,
  "metadata": {
    "colab": {
      "provenance": []
    },
    "kernelspec": {
      "name": "python3",
      "display_name": "Python 3"
    },
    "language_info": {
      "name": "python"
    }
  },
  "cells": [
    {
      "cell_type": "code",
      "source": [
        "class StackDepth:\n",
        "  def maxDepth(self,s: str) -> int:\n",
        "    current_depth = 0\n",
        "    max_depth = 0\n",
        "\n",
        "    for char in s:\n",
        "        if char == '(':\n",
        "            current_depth += 1\n",
        "            max_depth = max(max_depth, current_depth)\n",
        "        elif char == ')':\n",
        "            current_depth -= 1\n",
        "\n",
        "    return max_depth\n",
        "\n",
        "eqinput=input(\"enter an equation: \")\n",
        "print(StackDepth().maxDepth(eqinput))\n"
      ],
      "metadata": {
        "colab": {
          "base_uri": "https://localhost:8080/"
        },
        "id": "f8rKqOEr_Z0L",
        "outputId": "98cdc006-9c30-4673-98ba-7a89a1d88638"
      },
      "execution_count": 9,
      "outputs": [
        {
          "output_type": "stream",
          "name": "stdout",
          "text": [
            "enter an equation: ()(())((()()))\n",
            "3\n"
          ]
        }
      ]
    },
    {
      "cell_type": "code",
      "execution_count": 10,
      "metadata": {
        "colab": {
          "base_uri": "https://localhost:8080/"
        },
        "id": "V-oqbC9K_ZDO",
        "outputId": "3fcb0673-6dbe-45e1-fa92-722f1b8ca4db"
      },
      "outputs": [
        {
          "output_type": "stream",
          "name": "stdout",
          "text": [
            "enter an equation: (1)+((2))+(((3)))\n",
            "3\n"
          ]
        }
      ],
      "source": [
        "class StackDepth:\n",
        "  def maxDepth(self,s: str) -> int:\n",
        "    current_depth = 0\n",
        "    max_depth = 0\n",
        "\n",
        "    for char in s:\n",
        "        if char == '(':\n",
        "            current_depth += 1\n",
        "            max_depth = max(max_depth, current_depth)\n",
        "        elif char == ')':\n",
        "            current_depth -= 1\n",
        "\n",
        "    return max_depth\n",
        "\n",
        "eqinput=input(\"enter an equation: \")\n",
        "print(StackDepth().maxDepth(eqinput))"
      ]
    },
    {
      "cell_type": "code",
      "source": [
        "class StackDepth:\n",
        "  def maxDepth(self,s: str) -> int:\n",
        "    current_depth = 0\n",
        "    max_depth = 0\n",
        "\n",
        "    for char in s:\n",
        "        if char == '(':\n",
        "            current_depth += 1\n",
        "            max_depth = max(max_depth, current_depth)\n",
        "        elif char == ')':\n",
        "            current_depth -= 1\n",
        "\n",
        "    return max_depth\n",
        "\n",
        "eqinput=input(\"enter an equation: \")\n",
        "print(StackDepth().maxDepth(eqinput))"
      ],
      "metadata": {
        "colab": {
          "base_uri": "https://localhost:8080/"
        },
        "id": "TLX3D3qHKhUW",
        "outputId": "71610d14-2c4b-494c-b7c8-b060f72696df"
      },
      "execution_count": 11,
      "outputs": [
        {
          "output_type": "stream",
          "name": "stdout",
          "text": [
            "enter an equation: (1+(2*3)+((8)/4))+1\n",
            "3\n"
          ]
        }
      ]
    }
  ]
}